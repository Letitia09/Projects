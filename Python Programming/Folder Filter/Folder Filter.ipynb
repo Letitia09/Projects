{
 "cells": [
  {
   "cell_type": "markdown",
   "id": "88e24792-ce1d-49be-a3ca-7b94de1f112a",
   "metadata": {},
   "source": [
    "# Instructions\n",
    "\n",
    "* Download and unarchive fs.zip\n",
    "* There are total of 200 files in 10 folders. Each file contains 50 numbers. \n",
    "* When a folder ends with an odd number, I want you to find files that end with an even number. \n",
    "* In those files, find all the numbers where either the 2nd or the last digit is 3. That is your output. \n",
    "* Print how many numbers are in your output \n",
    "* Make a new text file ('hw1_output.txt') with all of those numbers, one number per line. "
   ]
  },
  {
   "cell_type": "code",
   "execution_count": 1,
   "id": "4a91d7ca-c738-448b-b4f9-f94b121e6770",
   "metadata": {
    "tags": []
   },
   "outputs": [],
   "source": [
    "import os\n",
    "import sys"
   ]
  },
  {
   "cell_type": "code",
   "execution_count": 2,
   "id": "0710da36-5721-4df3-a311-a820dd32864e",
   "metadata": {
    "tags": []
   },
   "outputs": [
    {
     "data": {
      "text/plain": [
       "'3.11.5 | packaged by Anaconda, Inc. | (main, Sep 11 2023, 13:26:23) [MSC v.1916 64 bit (AMD64)]'"
      ]
     },
     "execution_count": 2,
     "metadata": {},
     "output_type": "execute_result"
    }
   ],
   "source": [
    "sys.version"
   ]
  },
  {
   "cell_type": "code",
   "execution_count": 3,
   "id": "3c53591f",
   "metadata": {},
   "outputs": [
    {
     "data": {
      "text/plain": [
       "['fs']"
      ]
     },
     "execution_count": 3,
     "metadata": {},
     "output_type": "execute_result"
    }
   ],
   "source": [
    "os.listdir(\"hw1\")"
   ]
  },
  {
   "cell_type": "code",
   "execution_count": 4,
   "id": "c1ce43ef",
   "metadata": {},
   "outputs": [
    {
     "data": {
      "text/plain": [
       "['01111109',\n",
       " '02627287',\n",
       " '14822188',\n",
       " '16445802',\n",
       " '23561022',\n",
       " '27088410',\n",
       " '61392993',\n",
       " '75518001',\n",
       " '87000039',\n",
       " '97872263']"
      ]
     },
     "execution_count": 4,
     "metadata": {},
     "output_type": "execute_result"
    }
   ],
   "source": [
    "os.listdir(r\"hw1\\fs\\\\\")"
   ]
  },
  {
   "cell_type": "code",
   "execution_count": 5,
   "id": "fe25250e",
   "metadata": {},
   "outputs": [
    {
     "name": "stdout",
     "output_type": "stream",
     "text": [
      "01111109\n",
      "02627287\n",
      "61392993\n",
      "75518001\n",
      "87000039\n",
      "97872263\n"
     ]
    }
   ],
   "source": [
    "#CHECK IF THE FOLDER ENDS WITH AN ODD NUMBER\n",
    "\n",
    "folders_path = r\"hw1\\fs\"\n",
    "\n",
    "folder_names = os.listdir(folders_path)\n",
    "\n",
    "for folder in folder_names:\n",
    "    if int(folder[-1]) % 2: \n",
    "        print(folder)"
   ]
  },
  {
   "cell_type": "code",
   "execution_count": 6,
   "id": "83e1d57c",
   "metadata": {},
   "outputs": [
    {
     "name": "stdout",
     "output_type": "stream",
     "text": [
      "Total numbers found: 523\n",
      "All the matching numbers have been successfully saved to 'hw1_output.txt'.\n"
     ]
    }
   ],
   "source": [
    "# path to the unzipped folder\n",
    "folders_path = r\"hw1\\fs\"\n",
    "\n",
    "# list all folder names in the base directory\n",
    "folder_names = os.listdir(folders_path)\n",
    "\n",
    "# list to store the numbers that meet the condition\n",
    "lst_numbers = []\n",
    "\n",
    "for folder in folder_names:\n",
    "    # check if the folder name ends with an odd number\n",
    "    if int(folder[-1]) % 2:\n",
    "        # get the full path of the folder to list all the files in the current folder\n",
    "        files_path = os.path.join(folders_path, folder)\n",
    "        file_names = os.listdir(files_path)\n",
    "\n",
    "        # loop through each file in the folder\n",
    "        for file in file_names:\n",
    "            # check if the file name ends with an even number\n",
    "            if int(file[-5]) % 2 == 0:\n",
    "                # get the full path of the file to list all the files in the current directory\n",
    "                txt_file_path = os.path.join(files_path, file)\n",
    "                \n",
    "                #open and read the file\n",
    "                with open(txt_file_path, 'r') as read_file:\n",
    "                    file_content = read_file.read().splitlines()\n",
    "                    \n",
    "                    #loop through each number in the file\n",
    "                    for str_number in file_content:\n",
    "                        #check if the second or the last digit of the number is 3\n",
    "                        if len(str_number) > 1 and (str_number[1] == '3' or str_number[-1] == '3'):\n",
    "                            lst_numbers.append(str_number)\n",
    "                            \n",
    "                            \n",
    "# print the total number of valid numbers found\n",
    "print(f\"Total numbers found: {len(lst_numbers)}\")\n",
    "\n",
    "# Write the numbers to hw1_output.txt, one per line\n",
    "output_path = \"hw1_output.txt\"\n",
    "with open(output_path, 'w') as output_file:\n",
    "    for number in lst_numbers:\n",
    "        output_file.write(number + \"\\n\")\n",
    "\n",
    "print(f\"All the matching numbers have been successfully saved to '{output_path}'.\")"
   ]
  }
 ],
 "metadata": {
  "kernelspec": {
   "display_name": "Python 3 (ipykernel)",
   "language": "python",
   "name": "python3"
  },
  "language_info": {
   "codemirror_mode": {
    "name": "ipython",
    "version": 3
   },
   "file_extension": ".py",
   "mimetype": "text/x-python",
   "name": "python",
   "nbconvert_exporter": "python",
   "pygments_lexer": "ipython3",
   "version": "3.11.5"
  }
 },
 "nbformat": 4,
 "nbformat_minor": 5
}
